{
 "cells": [
  {
   "cell_type": "raw",
   "metadata": {},
   "source": [
    "Text provided under a Creative Commons Attribution license, CC-BY. All code is made available under the FSF-approved MIT license. (c) Yves Dubief, 2015. NSF for support via NSF-CBET award #1258697."
   ]
  },
  {
   "cell_type": "code",
   "execution_count": null,
   "metadata": {
    "collapsed": true
   },
   "outputs": [],
   "source": [
    "%matplotlib inline \n",
    "# plots graphs within the notebook\n",
    "%config InlineBackend.figure_format='svg' # not sure what this does, may be default images to svg format\n",
    "\n",
    "from IPython.display import display,Image, Latex\n",
    "from __future__ import division\n",
    "from sympy.interactive import printing\n",
    "printing.init_printing(use_latex='mathjax')\n",
    "\n",
    "import time\n",
    "\n",
    "from IPython.display import display,Image, Latex\n",
    "\n",
    "from IPython.display import clear_output\n",
    "\n",
    "#import SchemDraw as schem\n",
    "#import SchemDraw.elements as e\n",
    "\n",
    "import matplotlib.pyplot as plt\n",
    "import numpy as np\n",
    "import math\n",
    "import scipy.constants as sc\n",
    "\n",
    "import sympy as sym\n",
    "\n",
    "from IPython.core.display import HTML\n",
    "def header(text):\n",
    "    raw_html = '<h4>' + str(text) + '</h4>'\n",
    "    return raw_html\n",
    "\n",
    "def box(text):\n",
    "    raw_html = '<div style=\"border:1px dotted black;padding:2em;\">'+str(text)+'</div>'\n",
    "    return HTML(raw_html)\n",
    "\n",
    "def nobox(text):\n",
    "    raw_html = '<p>'+str(text)+'</p>'\n",
    "    return HTML(raw_html)\n",
    "\n",
    "def addContent(raw_html):\n",
    "    global htmlContent\n",
    "    htmlContent += raw_html\n",
    "    \n",
    "class PDF(object):\n",
    "  def __init__(self, pdf, size=(200,200)):\n",
    "    self.pdf = pdf\n",
    "    self.size = size\n",
    "\n",
    "  def _repr_html_(self):\n",
    "    return '<iframe src={0} width={1[0]} height={1[1]}></iframe>'.format(self.pdf, self.size)\n",
    "\n",
    "  def _repr_latex_(self):\n",
    "    return r'\\includegraphics[width=1.0\\textwidth]{{{0}}}'.format(self.pdf)\n",
    "\n",
    "class ListTable(list):\n",
    "    \"\"\" Overridden list class which takes a 2-dimensional list of \n",
    "        the form [[1,2,3],[4,5,6]], and renders an HTML Table in \n",
    "        IPython Notebook. \"\"\"\n",
    "    \n",
    "    def _repr_html_(self):\n",
    "        html = [\"<table>\"]\n",
    "        for row in self:\n",
    "            html.append(\"<tr>\")\n",
    "            \n",
    "            for col in row:\n",
    "                html.append(\"<td>{0}</td>\".format(col))\n",
    "            \n",
    "            html.append(\"</tr>\")\n",
    "        html.append(\"</table>\")\n",
    "        return ''.join(html)\n",
    "    \n",
    "font = {'family' : 'serif',\n",
    "        #'color'  : 'black',\n",
    "        'weight' : 'normal',\n",
    "        'size'   : 12,\n",
    "        }\n",
    "fontlabel = {'family' : 'serif',\n",
    "        #'color'  : 'black',\n",
    "        'weight' : 'normal',\n",
    "        'size'   : 16,\n",
    "        }\n",
    "\n",
    "from matplotlib.ticker import FormatStrFormatter\n",
    "plt.rc('font', **font) "
   ]
  },
  {
   "cell_type": "markdown",
   "metadata": {},
   "source": [
    "<h1>Steady Laminar Channel Flow</h1>\n",
    "\n",
    "The objective of this first assignment is to compute the well-known Poiseuille velocity profile in a channel flow. Assuming that the channel length and width are both very large, the governing equations for an incompressible flow,\n",
    "$$\n",
    "\\partial_xu+\\partial_yv+\\partial_z w = 0\n",
    "$$\n",
    "$$\n",
    "\\rho\\left(\\partial_t u+u\\partial_x u+v\\partial_y u+w\\partial_z u\\right) = -\\partial_x p+\\mu\\left(\\partial^2_x u +\\partial^2_y u+\\partial^2_z u\\right)\n",
    "$$\n",
    "$$\n",
    "\\rho\\left(\\partial_t v+u\\partial_x v+v\\partial_y v+w\\partial_z v\\right) = -\\partial_y p+\\mu\\left(\\partial^2_x v +\\partial^2_y v+\\partial^2_z v\\right)\n",
    "$$\n",
    "$$\n",
    "\\rho\\left(\\partial_t w+u\\partial_x w+v\\partial_y w+w\\partial_z w\\right) = -\\partial_z p+\\mu\\left(\\partial^2_x w +\\partial^2_y w+\\partial^2_z w\\right)\n",
    "$$\n",
    "reduce to\n",
    "<p class='alert alert-danger'>\n",
    "$$\n",
    "0=-\\frac{d P}{dx}+\\mu\\frac{d^2u}{dy^2}\n",
    "$$\n",
    "</p>\n",
    "\n",
    "<p class='alert alert-info'>\n",
    "Demonstrate the above statement.\n",
    "</p>"
   ]
  },
  {
   "cell_type": "markdown",
   "metadata": {},
   "source": [
    "<h3> Solution</h3>\n",
    "Here"
   ]
  },
  {
   "cell_type": "markdown",
   "metadata": {},
   "source": [
    "<h2> Taylor Series Expansion</h2>\n",
    "\n",
    "Given an $C^\\infty$ function $f$ defined over an interval $]a,b[$, for any $x\\in]a,b[$ and any $h$ such that $x+h\\in]a,b[$, the Taylor series expansion writes\n",
    "\n",
    "<p class='alert alert-danger'>\n",
    "$$\n",
    "f(x+h)=f(x)+\\sum_{n=1}^\\infty\\frac{h^n}{n!}\\frac{d^n f}{dx^n}\n",
    "$$\n",
    "</p>\n",
    "Practically, for a small increment $h$, $f(x+h)$ can be estimated as\n",
    "<p class='alert alert-danger'>\n",
    "$$\n",
    "f(x+h)=f(x)+\\sum_{n=1}^{N-1}\\frac{h^n}{n!}\\frac{d^n f}{dx^n}+{\\cal O}(h^N)\n",
    "$$\n",
    "</p>\n",
    "where\n",
    "<p class='alert alert-danger'>\n",
    "$$\n",
    "{\\cal O}(h^N)=\\sum_{n=N}^{\\infty}\\frac{h^n}{n!}\\frac{d^n f}{dx^n}\n",
    "$$\n",
    "is the <mark>truncation error</mark> which contains all terms affected by $h^n$ with $n\\geq N$. Since $h$ is small, the large $n$, the smaller the contribution of $(h^n/n!)f^{(n)}(x)$. The above estimation of $f(x+h)$ is said to be <mark>of order $N$</mark>\n",
    "</p>\n",
    "\n",
    "Now, let's consider our channel, discretized as shown in the sketch below. This discretization technique is called <mark> finite difference method</mark>, which is used to solve PDEs and ODEs. Here our ODE is\n",
    "<p class='alert alert-danger'>\n",
    "$$\n",
    "\\mu\\frac{d^2U}{dy^2}+G = 0\\text{ with }G=-\\frac{dP}{dx}\n",
    "$$\n",
    "</p>"
   ]
  },
  {
   "cell_type": "code",
   "execution_count": null,
   "metadata": {
    "collapsed": false
   },
   "outputs": [],
   "source": [
    "PDF('figures/channel.pdf',size=(200,400))"
   ]
  },
  {
   "cell_type": "markdown",
   "metadata": {},
   "source": [
    "<p class='alert alert-info'>\n",
    "Demonstrate that you can estimate the derivative of $U$ at node $i+1/2$, using $U_i$ and $U_{i-1}$\n",
    "</p>\n",
    "\n",
    "To answer this question, you will use the following Taylor series expansion:\n",
    "$$\n",
    "U(y\\pm\\Delta y/2)=U(y)+\\sum_{n=1}^\\infty\\frac{(\\pm\\Delta y/2)^n}{n!}\\frac{d^nU}{dy^n}\n",
    "$$"
   ]
  },
  {
   "cell_type": "markdown",
   "metadata": {},
   "source": [
    "<h3> Solution</h3>\n",
    "Here"
   ]
  },
  {
   "cell_type": "markdown",
   "metadata": {},
   "source": [
    "<p class='alert alert-info'>\n",
    "Using the derivative above, show that a numerical scheme for the second derivative of $U$ is\n",
    "$$\n",
    "\\frac{d^2U}{dy^2}= \\frac{U_{i-1}-2U_i+U_{i+1}}{\\Delta y^2}+{\\cal O}(\\Delta y^2)\n",
    "$$\n",
    "</p>\n",
    "The term ${\\cal O}(\\Delta y^2)$ represents the truncation error, i.e. all the terms from the Taylor series expansion that are affected with $\\Delta y^n$ for $n\\geq 2$.\n"
   ]
  },
  {
   "cell_type": "markdown",
   "metadata": {},
   "source": [
    "<h3> Solution</h3>\n",
    "Here"
   ]
  },
  {
   "cell_type": "markdown",
   "metadata": {},
   "source": [
    "<h2>Discretization</h2>\n",
    "\n",
    "Following the work above, a second order approximation of our ODE is\n",
    "<p class='alert alert-danger'>\n",
    "$$\n",
    "\\frac{\\mu}{\\Delta y^2}U_{j-1}-\\frac{2\\mu}{\\Delta y^2}U_{j}+\\frac{\\mu}{\\Delta y^2}U_{j+1}=-G\n",
    "$$\n",
    "</p>\n",
    "or\n",
    "<p class='alert alert-danger'>\n",
    "$$\n",
    "a_jU_{j-1}+b_jU_{j}+c_jU_{j+1}=-G\n",
    "$$\n",
    "</p>\n",
    "for $j=0,N-1$\n",
    "At the boundaries, the velocity is imposed:\n",
    "<p class='alert alert-danger'>\n",
    "$$\n",
    "U_{j=0}=U_\\text{lower wall}\n",
    "$$\n",
    "$$\n",
    "U_{j=N-1}=U_\\text{upper wall}\n",
    "$$\n",
    "</p>\n",
    "This system of linear equation can be written in a matrix form:\n",
    "$$\n",
    "\\left[\\begin{matrix}\n",
    "1 & 0    & 0      & \\cdots & \\cdots  & 0 \\\\\n",
    "a_1     & b_1    & c_1    & \\ddots & \\cdots  & \\vdots \\\\\n",
    "0       & \\ddots & \\ddots & \\ddots & \\ddots  & \\vdots \\\\ \n",
    "\\vdots  & \\ddots & \\ddots & \\ddots & \\ddots  & \\vdots \\\\\n",
    "0       & \\cdots & \\cdots & \\cdots & 0& 1 \\\\\n",
    "\\end{matrix}\n",
    "\\right]\n",
    "\\left[\\begin{matrix}\n",
    "u_0\\\\\n",
    "u_1 \\\\\n",
    "\\vdots \\\\\n",
    "\\vdots \\\\\n",
    "u_{ny-1}\\\\\n",
    "\\end{matrix}\\right]\n",
    "=\n",
    "\\left[\\begin{matrix}\n",
    "u_\\text{lower wall}\\\\\n",
    "-G \\\\\n",
    "\\vdots \\\\\n",
    "\\vdots \\\\\n",
    "u_\\text{upper wall}\\\\\n",
    "\\end{matrix}\\right]\n",
    "$$\n",
    "\n",
    "The matrix being tridiagonal, we can solve this system using the efficient Thomas algorithm as follows:\n"
   ]
  },
  {
   "cell_type": "code",
   "execution_count": null,
   "metadata": {
    "collapsed": false
   },
   "outputs": [],
   "source": [
    "import numpy as np\n",
    "def TDMAsolver(a, b, c, d):\n",
    "    '''\n",
    "    TDMA solver, a b c d can be NumPy array type or Python list type.\n",
    "    refer to http://en.wikipedia.org/wiki/Tridiagonal_matrix_algorithm\n",
    "    '''\n",
    "    nf = len(a)     # number of equations\n",
    "    ac, bc, cc, dc = map(np.array, (a, b, c, d))     # copy the array\n",
    "    for it in range(1, nf):\n",
    "        mc = ac[it]/bc[it-1]\n",
    "        bc[it] = bc[it] - mc*cc[it-1] \n",
    "        dc[it] = dc[it] - mc*dc[it-1]\n",
    "\n",
    "    xc = ac\n",
    "    xc[-1] = dc[-1]/bc[-1]\n",
    "\n",
    "    for il in range(nf-2, -1, -1):\n",
    "        xc[il] = (dc[il]-cc[il]*xc[il+1])/bc[il]\n",
    "\n",
    "    del bc, cc, dc  # delete variables from memory\n",
    "\n",
    "    return xc"
   ]
  },
  {
   "cell_type": "markdown",
   "metadata": {},
   "source": [
    "<h3>Numerical solution</h3>\n",
    "\n",
    "Here we will solve the flow inside a channel of half-height $h=1$, a pressure gradient $G=1$ and a viscosity $\\mu=1/10$. Both walls are fixed.\n",
    "<p class='alert alert-info'>\n",
    "Write the code to solve our ODE.\n",
    "</p>"
   ]
  },
  {
   "cell_type": "code",
   "execution_count": null,
   "metadata": {
    "collapsed": false
   },
   "outputs": [],
   "source": []
  },
  {
   "cell_type": "markdown",
   "metadata": {},
   "source": [
    "<h3>Error Quantification</h3>\n",
    "Visual verification is subjective. You should always rely on a statistical approach, such the $L^2$ or $L^\\infty$.\n",
    "\n",
    "<p class='alert alert-danger'>\n",
    "$$\n",
    "L^2 = \\left[\\sum_{i=0}^{N-1}U^2_j\\right]^{1/2}\n",
    "$$\n",
    "$$\n",
    "L^\\infty = \\max_{i=0,N-1}\\left\\vert U_j\\right\\vert\n",
    "$$\n",
    "<p>"
   ]
  },
  {
   "cell_type": "code",
   "execution_count": null,
   "metadata": {
    "collapsed": false
   },
   "outputs": [],
   "source": [
    "L2 = np.linalg.norm(U_all-U_exact,2)\n",
    "L2 = np.sum\n",
    "print(\"L2 error= %1.4e\" %L2)\n",
    "Linf = np.linalg.norm(U_all-U_exact,np.inf)\n",
    "print(\"Linfinity error= %1.4e\" %Linf)"
   ]
  },
  {
   "cell_type": "markdown",
   "metadata": {},
   "source": [
    "<p class='alert alert-info'>\n",
    "Now write a code for a non-Newtonian fluid, using the following viscosity\n",
    "</p>"
   ]
  },
  {
   "cell_type": "code",
   "execution_count": null,
   "metadata": {
    "collapsed": false
   },
   "outputs": [],
   "source": [
    "def viscosity_carreau(u):\n",
    "    global mu_0,mu_inf,l_relax,n_power\n",
    "    n = len(u)\n",
    "    mu = np.zeros(n+1)\n",
    "    gradu = np.zeros(n+1)\n",
    "    gradu[1:n] = (u[1:n] - u[0:n-1])/dy\n",
    "    gradu[0] = 2.*u[0]/dy\n",
    "    gradu[n] = -2.*u[n-1]/dy\n",
    "    mu = mu_inf +(mu_0 - mu_inf)*np.power(1.+np.power(l_relax*gradu,2),n_power)\n",
    "    return nu"
   ]
  },
  {
   "cell_type": "code",
   "execution_count": null,
   "metadata": {
    "collapsed": true
   },
   "outputs": [],
   "source": [
    "from scipy.sparse import csr_matrix\n",
    "def nufd(x):\n",
    "    n = len(x)\n",
    "    h = x[1:]-x[:n-1]\n",
    "    a0 = -(2*h[0]+h[1])/(h[0]*(h[0]+h[1]))\n",
    "    ak = -h[1:]/(h[:n-2]*(h[:n-2]+h[1:]))\n",
    "    an = h[-1]/(h[-2]*(h[-1]+h[-2]))\n",
    "    b0 = (h[0]+h[1])/(h[0]*h[1]) \n",
    "    bk = (h[1:] - h[:n-2])/(h[:n-2]*h[1:])\n",
    "    bn = -(h[-1]+h[-2])/(h[-1]*h[-2])\n",
    "    c0 = -h[0]/(h[1]*(h[0]+h[1]))\n",
    "    ck = h[:n-2]/(h[1:]*(h[:n-2]+h[1:]))\n",
    "    cn = (2*h[-1]+h[-2])/(h[-1]*(h[-2]+h[-1]))\n",
    "    val  = np.hstack((a0,ak,an,b0,bk,bn,c0,ck,cn))\n",
    "    row = np.tile(np.arange(n),3)\n",
    "    dex = np.hstack((0,np.arange(n-2),n-3))\n",
    "    col = np.hstack((dex,dex+1,dex+2))\n",
    "    D = csr_matrix((val,(row,col)),shape=(n,n))\n",
    "    return D"
   ]
  },
  {
   "cell_type": "code",
   "execution_count": null,
   "metadata": {
    "collapsed": true
   },
   "outputs": [],
   "source": []
  }
 ],
 "metadata": {
  "kernelspec": {
   "display_name": "Python 3",
   "language": "python",
   "name": "python3"
  },
  "language_info": {
   "codemirror_mode": {
    "name": "ipython",
    "version": 3
   },
   "file_extension": ".py",
   "mimetype": "text/x-python",
   "name": "python",
   "nbconvert_exporter": "python",
   "pygments_lexer": "ipython3",
   "version": "3.5.1"
  }
 },
 "nbformat": 4,
 "nbformat_minor": 0
}
