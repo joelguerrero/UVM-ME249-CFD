{
 "cells": [
  {
   "cell_type": "raw",
   "metadata": {},
   "source": [
    "Text provided under a Creative Commons Attribution license, CC-BY. All code is made available under the FSF-approved MIT license. (c) Yves Dubief, 2015. NSF for support via NSF-CBET award #1258697."
   ]
  },
  {
   "cell_type": "markdown",
   "metadata": {},
   "source": [
    "<h1> Crash Course in Python</h1>\n",
    "\n",
    "Python is a powerful programming language that bears many similarities with matlab, C and fortran. The following crash course will take you through some of the key features we will use in ME 249. Note that we will be using Python 3."
   ]
  },
  {
   "cell_type": "markdown",
   "metadata": {},
   "source": [
    "<h2>1. Simple Mathematical Operation</h2>\n",
    "\n",
    "The python software installed on your computer contains many libraries, the main ones used in ME 249 are:\n",
    "<ul>\n",
    "<li> <FONT FACE=\"courier\" style=\"color:blue\">matplotlib </FONT>: <a href=\"http://matplotlib.org\">http://matplotlib.org</a> for examples of plots you can make in python.</li>\n",
    "<li> <FONT FACE=\"courier\" style=\"color:blue\">math </FONT>: <a href=\"https://docs.python.org/3/library/math.html\">https://docs.python.org/3/library/math.html</a> for mathematical constants and functions.</li>\n",
    "<li><FONT FACE=\"courier\" style=\"color:blue\">numpy </FONT>: <a href=\"http://docs.scipy.org/doc/numpy/user/index.html\">http://docs.scipy.org/doc/numpy/user/index.html</a> Library for operations on matrices and vectors.</li>\n",
    "<li><FONT FACE=\"courier\" style=\"color:blue\">scipy </FONT>: <a href=\"https://www.scipy.org/\">https://www.scipy.org/</a> Library for fundamental mathematical operations (e.g. ODE solvers).</li>\n",
    "</ul>\n",
    "Loading a libray in python is done by the command <FONT FACE=\"courier\" style=\"color:blue\">import</FONT>. The best practice is to take the habit to use \n",
    "<FONT FACE=\"courier\" style=\"color:blue\">import [library] as [library_nickname]</FONT>\n",
    "\n",
    "<h3>1.1 Printing $\\pi$</h3>\n",
    "\n",
    "The constant $\\pi$ is available from all three libraries (math, numpy, scipy). Here I don't give a shorthand name to math, to illustrate how <FONT FACE=\"courier\" style=\"color:blue\">import</FONT> works with or without <FONT FACE=\"courier\" style=\"color:blue\">as</FONT>.\n",
    "\n",
    "The <FONT FACE=\"courier\" style=\"color:blue\">print</FONT> command here takes a string <FONT FACE=\"courier\" style=\"color:blue\">\"pi = %1.15f\"</FONT> where <FONT FACE=\"courier\" style=\"color:blue\">%1.15f</FONT> signals the print command that a floating number of the form\n",
    "$$\n",
    "\\underbrace{x}_{1}.\\underbrace{abcdefghijklmno}_{15}\n",
    "$$\n",
    "is expected. This number is passed onto the print command via <FONT FACE=\"courier\" style=\"color:blue\">%math.pi</FONT>."
   ]
  },
  {
   "cell_type": "code",
   "execution_count": 1,
   "metadata": {
    "collapsed": false
   },
   "outputs": [
    {
     "name": "stdout",
     "output_type": "stream",
     "text": [
      "pi = 3.141592653589793\n",
      "pi = 3.141592653589793e+00\n",
      " numpy pi = 3.141592653589793\n",
      " scipy pi = 3.141592653589793\n"
     ]
    }
   ],
   "source": [
    "import math\n",
    "\n",
    "print(\"pi = %1.15f\" %math.pi)\n",
    "print(\"pi = %1.15e\" %math.pi)\n",
    "\n",
    "import numpy as np\n",
    "import scipy as scp\n",
    "print(\" numpy pi = %1.15f\" %np.pi)\n",
    "print(\" scipy pi = %1.15f\" %scp.pi)"
   ]
  },
  {
   "cell_type": "markdown",
   "metadata": {},
   "source": [
    "<h2>1.2 Basic operators <FONT FACE=\"courier\" style=\"color:blue\">+,-,\\*,/,//,**</FONT></h2>\n",
    "\n",
    "A few things you should know about python 3:\n",
    "<ol>\n",
    "<li><FONT FACE=\"courier\" style=\"color:blue\">2</FONT> is an integer, <FONT FACE=\"courier\" style=\"color:blue\">2.0</FONT> is a floating point number, <FONT FACE=\"courier\" style=\"color:blue\">(2.0+3.0j)</FONT> is a complex.</li>\n",
    "<li>The division operator returns a floating point number. To perform the division of two integers and expect an integer number as the result, use <FONT FACE=\"courier\" style=\"color:blue\">//</FONT> or <FONT FACE=\"courier\" style=\"color:blue\">int()</FONT></li>\n",
    "<li>The power operation $x^y$ is <FONT FACE=\"courier\" style=\"color:blue\">x**y</FONT> or <FONT FACE=\"courier\" style=\"color:blue\">pow(x,y)</FONT>. </li>\n",
    "<li><FONT FACE=\"courier\" style=\"color:blue\">a += 1</FONT> is a shorthand for <FONT FACE=\"courier\" style=\"color:blue\">a = a + 1</FONT>, same for subtraction, multiplication and division.\n",
    "</ol>"
   ]
  },
  {
   "cell_type": "code",
   "execution_count": 2,
   "metadata": {
    "collapsed": false
   },
   "outputs": [
    {
     "name": "stdout",
     "output_type": "stream",
     "text": [
      "1+2 =  3\n",
      "1.0+2 =  3.0\n",
      "1.0+2.0 =  3.0\n",
      "4/2 =  2.0\n",
      "4//2 =  2\n",
      "8//3 =  2\n",
      "8/3 =  2.6666666666666665\n",
      "Integer of 8/3 =  2\n",
      "(2.5,3.0) = (2.5+3j)\n",
      "2^4 =  16\n",
      "2.0^4 =  16.0\n",
      "2.0^4 =  16.0\n",
      "a = 10. then a *= 9.= 90.0\n"
     ]
    }
   ],
   "source": [
    "print(\"1+2 = \", 1+2)\n",
    "print(\"1.0+2 = \", 1.0+2)\n",
    "print(\"1.0+2.0 = \", 1.0+2.0)\n",
    "print(\"4/2 = \", 4/2)\n",
    "print(\"4//2 = \", 4//2)\n",
    "print(\"8//3 = \", 8//3)\n",
    "print(\"8/3 = \", 8/3)\n",
    "print(\"Integer of 8/3 = \", int(8/3))\n",
    "print(\"(2.5,3.0) =\", 2.5+3.0j)\n",
    "print(\"2^4 = \", 2**4)\n",
    "print(\"2.0^4 = \", 2.**4)\n",
    "print(\"2.0^4 = \",pow(2.0,4))\n",
    "a = 10.\n",
    "a *= 9.\n",
    "print(\"a = 10. then a *= 9.=\",a)"
   ]
  },
  {
   "cell_type": "markdown",
   "metadata": {},
   "source": [
    "<h3>1.3 Mathematical functions</h3>\n",
    "\n",
    "You may find all mathematical functions here </FONT>: <a href=\"https://docs.python.org/3.5/library/math.html\">https://docs.python.org/3.5/library/math.html</FONT>."
   ]
  },
  {
   "cell_type": "code",
   "execution_count": 3,
   "metadata": {
    "collapsed": false
   },
   "outputs": [
    {
     "name": "stdout",
     "output_type": "stream",
     "text": [
      "e^1= 2.718281828459045\n",
      "e^(-infinity)= 0.0\n",
      "log(e)= 1.0\n",
      "log_10(1000.)= 3.0\n",
      "a = cos(pi/4) = 0.70710678\n",
      "arcos(a)*4./pi =  1.0\n"
     ]
    }
   ],
   "source": [
    "print(\"e^1=\",math.exp(1.))\n",
    "print(\"e^(-infinity)=\",math.exp(-math.inf))\n",
    "print(\"log(e)=\", math.log(math.e))\n",
    "print(\"log_10(1000.)=\",math.log10(1000.))\n",
    "a = math.cos(math.pi/4.)\n",
    "print(\"a = cos(pi/4) = %1.8f\" %a)\n",
    "print(\"arcos(a)*4./pi = \",math.acos(a)*4./math.pi)"
   ]
  },
  {
   "cell_type": "markdown",
   "metadata": {},
   "source": [
    "<h3>1.4 Booleans</h3>\n",
    "Logical operations result in <FONT FACE=\"courier\" style=\"color:blue\">True</FONT> or <FONT FACE=\"courier\" style=\"color:blue\">False</FONT> outcomes. They mostly drive <FONT FACE=\"courier\" style=\"color:blue\">if</FONT> and <FONT FACE=\"courier\" style=\"color:blue\">while</FONT> statements."
   ]
  },
  {
   "cell_type": "code",
   "execution_count": 4,
   "metadata": {
    "collapsed": false
   },
   "outputs": [
    {
     "name": "stdout",
     "output_type": "stream",
     "text": [
      "1 equal 2: False\n",
      "1 non-equal 2: True\n",
      "1 > 2: False\n",
      "1 < 2: True\n",
      "10.==sqrt(100.): True\n"
     ]
    }
   ],
   "source": [
    "print(\"1 equal 2:\",1==2)\n",
    "print(\"1 non-equal 2:\",1!=2)\n",
    "print(\"1 > 2:\",1>2)\n",
    "print(\"1 < 2:\",1<2)\n",
    "print(\"10.==sqrt(100.):\",10.==math.sqrt(100.))"
   ]
  },
  {
   "cell_type": "code",
   "execution_count": 5,
   "metadata": {
    "collapsed": false
   },
   "outputs": [
    {
     "name": "stdout",
     "output_type": "stream",
     "text": [
      "1\n"
     ]
    }
   ],
   "source": [
    "a = 0\n",
    "if a > 0:\n",
    "    a -= 1\n",
    "elif a == 0:\n",
    "    a = 1\n",
    "print(a)"
   ]
  },
  {
   "cell_type": "markdown",
   "metadata": {},
   "source": [
    "Let's take a pause here to discuss <FONT FACE=\"courier\" style=\"color:blue\">if, while, for</FONT> statements. The indentation at the line following <FONT FACE=\"courier\" style=\"color:blue\">if a>0:</FONT> is critical. It means that all the lines with such indentation following <FONT FACE=\"courier\" style=\"color:blue\">if a>0:</FONT> are part of the actions needed if <FONT FACE=\"courier\" style=\"color:blue\">a>0 = True</FONT>. Try the following cells using <FONT FACE=\"courier\" style=\"color:blue\"> a = 1 </FONT> and <FONT FACE=\"courier\" style=\"color:blue\">if a=4</FONT>. Note also the role of the boolean operators <FONT FACE=\"courier\" style=\"color:blue\">and</FONT> and <FONT FACE=\"courier\" style=\"color:blue\">or</FONT>. Note also that each <FONT FACE=\"courier\" style=\"color:blue\">if, while, for</FONT> statements need to end with <FONT FACE=\"courier\" style=\"color:blue\">:</FONT> to signal that the following indented lines are part of the statement."
   ]
  },
  {
   "cell_type": "code",
   "execution_count": 6,
   "metadata": {
    "collapsed": false
   },
   "outputs": [
    {
     "name": "stdout",
     "output_type": "stream",
     "text": [
      "0 1\n"
     ]
    }
   ],
   "source": [
    "a = 4\n",
    "b = 0\n",
    "if a > 0 and a < 4:\n",
    "    a += 1\n",
    "    b = 3\n",
    "else:\n",
    "    a = 0\n",
    "    b = 1\n",
    "print(a,b)"
   ]
  },
  {
   "cell_type": "code",
   "execution_count": 7,
   "metadata": {
    "collapsed": false
   },
   "outputs": [
    {
     "name": "stdout",
     "output_type": "stream",
     "text": [
      "5 3\n"
     ]
    }
   ],
   "source": [
    "a = 4\n",
    "b = 0\n",
    "if a > 0 or a < 4:\n",
    "    a += 1\n",
    "    b = 3\n",
    "else:\n",
    "    a = 0\n",
    "    b = 1\n",
    "print(a,b)"
   ]
  },
  {
   "cell_type": "markdown",
   "metadata": {},
   "source": [
    "<h3>1.5 Loops</h3>\n",
    "\n",
    "A key element of scientific computing is the ability to loop or iterate. You have two options: <FONT FACE=\"courier\" style=\"color:blue\">for</FONT> and <FONT FACE=\"courier\" style=\"color:blue\">while</FONT>:\n",
    "<ul>\n",
    "<li><FONT FACE=\"courier\" style=\"color:blue\">for i in range(lower, upper, step):</FONT> \"range(lower, upper, step)\" returns an iterable list of numbers from the lower number to the upper number (-1, if step>0, +1 if step<0), while incrementing by step. If step is not indicated, the default value is 1.</li>\n",
    "<li><FONT FACE=\"courier\" style=\"color:blue\">while condition:</FONT> This loop will run while condition is true.</li>\n",
    "</ul>\n",
    "Here are some examples:"
   ]
  },
  {
   "cell_type": "code",
   "execution_count": 8,
   "metadata": {
    "collapsed": false
   },
   "outputs": [
    {
     "name": "stdout",
     "output_type": "stream",
     "text": [
      "0\n",
      "1\n",
      "2\n",
      "3\n",
      "4\n"
     ]
    }
   ],
   "source": [
    "for i in range(0,5,1):\n",
    "    print(i)"
   ]
  },
  {
   "cell_type": "code",
   "execution_count": 9,
   "metadata": {
    "collapsed": false
   },
   "outputs": [
    {
     "name": "stdout",
     "output_type": "stream",
     "text": [
      "0\n",
      "1\n",
      "2\n",
      "3\n",
      "4\n"
     ]
    }
   ],
   "source": [
    "for i in range(5):\n",
    "    print(i)"
   ]
  },
  {
   "cell_type": "code",
   "execution_count": 10,
   "metadata": {
    "collapsed": false
   },
   "outputs": [
    {
     "name": "stdout",
     "output_type": "stream",
     "text": [
      "3\n",
      "4\n"
     ]
    }
   ],
   "source": [
    "for i in range(3,5):\n",
    "    print(i)"
   ]
  },
  {
   "cell_type": "code",
   "execution_count": 11,
   "metadata": {
    "collapsed": false
   },
   "outputs": [
    {
     "name": "stdout",
     "output_type": "stream",
     "text": [
      "5\n",
      "4\n",
      "3\n"
     ]
    }
   ],
   "source": [
    "for i in range(5,2,-1):\n",
    "    print(i)"
   ]
  },
  {
   "cell_type": "code",
   "execution_count": 12,
   "metadata": {
    "collapsed": false
   },
   "outputs": [
    {
     "name": "stdout",
     "output_type": "stream",
     "text": [
      "0\n",
      "1\n",
      "2\n",
      "3\n",
      "4\n",
      "5\n",
      "final a= 6\n"
     ]
    }
   ],
   "source": [
    "a = 0\n",
    "while a <=5 :\n",
    "    print(a)\n",
    "    a += 1\n",
    "print(\"final a=\",a)"
   ]
  },
  {
   "cell_type": "markdown",
   "metadata": {},
   "source": [
    "<h2>2 Matrices</h2>\n",
    "\n",
    "Matrices are central to CFD as we will see in future problems. The library or module <FONT FACE=\"courier\" style=\"color:blue\">numpy</FONT> contains all the definitions and operators necessary for matrix operations.\n",
    "\n",
    "<h3>2.1 Initialization of a matrix</h3>\n",
    "\n",
    "You may set a matrix/vector to zero, unity or the values you may choose using <FONT FACE=\"courier\" style=\"color:blue\">numpy</FONT> functions <FONT FACE=\"courier\" style=\"color:blue\">zeros</FONT>, <FONT FACE=\"courier\" style=\"color:blue\">ones</FONT>, and <FONT FACE=\"courier\" style=\"color:blue\">array</FONT>. Please note:\n",
    "<ul>\n",
    "<li> Indices always start at 0. More on that later.</li>\n",
    "<li> For one dimension array (vector) the syntax to initialize an array is <FONT FACE=\"courier\" style=\"color:blue\">np.zeros(n)</FONT>, however for multiple-dimension arrays, the argument to be passed to <FONT FACE=\"courier\" style=\"color:blue\">zeros</FONT> or <FONT FACE=\"courier\" style=\"color:blue\">ones</FONT> is a <b>tuple</b> <FONT FACE=\"courier\" style=\"color:blue\">(p,q,r)</FONT> like this: <FONT FACE=\"courier\" style=\"color:blue\">np.zeros((p,q,r))</FONT></li>\n",
    "<li> <FONT FACE=\"courier\" style=\"color:blue\">dtype</FONT> allows for the specification of the variable format. There are many ways to pass the format:  <FONT FACE=\"courier\" style=\"color:blue\">'int'</FONT>, <FONT FACE=\"courier\" style=\"color:blue\">'float32'</FONT>, <FONT FACE=\"courier\" style=\"color:blue\">'float64'</FONT>, <FONT FACE=\"courier\" style=\"color:blue\">'float'</FONT>, <FONT FACE=\"courier\" style=\"color:blue\">'complex64'</FONT>, <FONT FACE=\"courier\" style=\"color:blue\">'complex128'</FONT>, <FONT FACE=\"courier\" style=\"color:blue\">'complex'</FONT>. By default <FONT FACE=\"courier\" style=\"color:blue\">'float'</FONT> and <FONT FACE=\"courier\" style=\"color:blue\">'complex'</FONT> are 64 bits and 128 bits, respectively, or the same as <FONT FACE=\"courier\" style=\"color:blue\">'float64'</FONT> and <FONT FACE=\"courier\" style=\"color:blue\">'complex128'</FONT>. Should you be short on memory you may revert to <FONT FACE=\"courier\" style=\"color:blue\">'float32'</FONT> and <FONT FACE=\"courier\" style=\"color:blue\">'complex64'</FONT> with a loss of accuracy. In the second cell below, hange float64 to 32.</li>\n",
    "</ul>"
   ]
  },
  {
   "cell_type": "code",
   "execution_count": 13,
   "metadata": {
    "collapsed": false
   },
   "outputs": [
    {
     "name": "stdout",
     "output_type": "stream",
     "text": [
      "a =  [ 0.  0.  0.  0.  0.  0.  0.  0.  0.  0.]\n",
      "b =  [[ 1.  1.  1.  1.  1.  1.  1.  1.  1.  1.]\n",
      " [ 1.  1.  1.  1.  1.  1.  1.  1.  1.  1.]\n",
      " [ 1.  1.  1.  1.  1.  1.  1.  1.  1.  1.]]\n",
      "c =  [1 2 3 4]\n",
      "d =  [[ 1.+0.j  2.+0.j]\n",
      " [ 3.+0.j  4.+0.j]]\n"
     ]
    }
   ],
   "source": [
    "import numpy as np\n",
    "\n",
    "n = 10\n",
    "a = np.zeros(n)\n",
    "print(\"a = \",a)\n",
    "m = 3\n",
    "b = np.ones((m,n))\n",
    "print(\"b = \",b)\n",
    "c = np.array([1, 2, 3, 4])\n",
    "print(\"c = \",c)\n",
    "d = np.array([[1, 2], [3, 4]], dtype = np.complex)\n",
    "print(\"d = \",d)"
   ]
  },
  {
   "cell_type": "code",
   "execution_count": 14,
   "metadata": {
    "collapsed": false
   },
   "outputs": [
    {
     "name": "stdout",
     "output_type": "stream",
     "text": [
      "[[ 3.14159265  1.57079633]\n",
      " [ 1.57079633  1.04719755]]\n",
      "a[0,0] = 3.14159265359\n"
     ]
    }
   ],
   "source": [
    "a = np.ones((2,2), dtype = 'float64')\n",
    "for j in range(2):\n",
    "    for i in range(2):\n",
    "        a[i,j] *= np.float64(math.pi/(i+j+1))\n",
    "print(a)\n",
    "print(\"a[0,0] =\",a[0,0])"
   ]
  },
  {
   "cell_type": "markdown",
   "metadata": {},
   "source": [
    "<h3>2.3 The problem with arrays: <FONT FACE=\"courier\" style=\"color:blue\">=</FONT></h3>\n",
    "\n",
    "Any programming language has a quirk or two, that may baffle/annoy you. May be it is only me, but I find the equal sign in python dangerous. Here is why. First we define an array\n",
    "$$\n",
    "a_i = 2^i,\\;i=0,\\ldots,9\n",
    "$$"
   ]
  },
  {
   "cell_type": "code",
   "execution_count": 15,
   "metadata": {
    "collapsed": false
   },
   "outputs": [
    {
     "name": "stdout",
     "output_type": "stream",
     "text": [
      "a =  [   1.    2.    4.    8.   16.   32.   64.  128.  256.  512.]\n"
     ]
    }
   ],
   "source": [
    "n = 10\n",
    "a = np.zeros(n, dtype = np.float)\n",
    "for i in range(n):\n",
    "    a[i] = 2.**i\n",
    "print(\"a = \",a)"
   ]
  },
  {
   "cell_type": "markdown",
   "metadata": {},
   "source": [
    "Now, I want to modify the last element <FONT FACE=\"courier\" style=\"color:blue\">a[n-1]</FONT> but in a different array to keep my initial array intact (something quite common in CFD)."
   ]
  },
  {
   "cell_type": "code",
   "execution_count": 16,
   "metadata": {
    "collapsed": false
   },
   "outputs": [
    {
     "name": "stdout",
     "output_type": "stream",
     "text": [
      "a =  [   1.    2.    4.    8.   16.   32.   64.  128.  256.   12.]\n",
      "b =  [   1.    2.    4.    8.   16.   32.   64.  128.  256.   12.]\n"
     ]
    }
   ],
   "source": [
    "b = a\n",
    "b[n-1] -= 500.\n",
    "print(\"a = \",a)\n",
    "print(\"b = \",b)"
   ]
  },
  {
   "cell_type": "markdown",
   "metadata": {},
   "source": [
    "Both my arrays have been changed!!! The same is not true for simple variables:"
   ]
  },
  {
   "cell_type": "code",
   "execution_count": 17,
   "metadata": {
    "collapsed": false
   },
   "outputs": [
    {
     "name": "stdout",
     "output_type": "stream",
     "text": [
      "a= 1.0\n",
      "b= 2.0\n"
     ]
    }
   ],
   "source": [
    "a = 1.\n",
    "b = a\n",
    "b += 1.\n",
    "print(\"a=\",a)\n",
    "print(\"b=\",b)"
   ]
  },
  {
   "cell_type": "markdown",
   "metadata": {},
   "source": [
    "The fix for arrays is to use <FONT FACE=\"courier\" style=\"color:blue\">np.copy</FONT>:"
   ]
  },
  {
   "cell_type": "code",
   "execution_count": 18,
   "metadata": {
    "collapsed": false
   },
   "outputs": [
    {
     "name": "stdout",
     "output_type": "stream",
     "text": [
      "a =  [   1.    2.    4.    8.   16.   32.   64.  128.  256.  512.]\n",
      "b =  [   1.    2.    4.    8.   16.   32.   64.  128.  256.   12.]\n"
     ]
    }
   ],
   "source": [
    "n = 10\n",
    "a = np.zeros(n)\n",
    "for i in range(n):\n",
    "    a[i] = 2.**i\n",
    "b = np.copy(a)\n",
    "b[n-1] -= 500.\n",
    "print(\"a = \",a)\n",
    "print(\"b = \",b)"
   ]
  },
  {
   "cell_type": "markdown",
   "metadata": {},
   "source": [
    "Note that when you perform an operation on <b>all</b> the elements of your array, the problem of linking your old array and new array disappears:"
   ]
  },
  {
   "cell_type": "code",
   "execution_count": 19,
   "metadata": {
    "collapsed": false
   },
   "outputs": [
    {
     "name": "stdout",
     "output_type": "stream",
     "text": [
      "a =  [   1.    2.    4.    8.   16.   32.   64.  128.  256.  512.]\n",
      "b =  [    2.     4.     8.    16.    32.    64.   128.   256.   512.  1024.]\n"
     ]
    }
   ],
   "source": [
    "n = 10\n",
    "a = np.zeros(n)\n",
    "for i in range(n):\n",
    "    a[i] = 2.**i\n",
    "b = a * 2.\n",
    "print(\"a = \",a)\n",
    "print(\"b = \",b)"
   ]
  },
  {
   "cell_type": "markdown",
   "metadata": {},
   "source": [
    "which is equivalent to:"
   ]
  },
  {
   "cell_type": "code",
   "execution_count": 20,
   "metadata": {
    "collapsed": false
   },
   "outputs": [
    {
     "name": "stdout",
     "output_type": "stream",
     "text": [
      "a =  [   1.    2.    4.    8.   16.   32.   64.  128.  256.  512.]\n",
      "b =  [    2.     4.     8.    16.    32.    64.   128.   256.   512.  1024.]\n"
     ]
    }
   ],
   "source": [
    "n = 10\n",
    "a = np.zeros(n)\n",
    "for i in range(n):\n",
    "    a[i] = 2.**i\n",
    "b = np.copy(a)\n",
    "b *= 2.\n",
    "print(\"a = \",a)\n",
    "print(\"b = \",b)\n"
   ]
  },
  {
   "cell_type": "markdown",
   "metadata": {},
   "source": [
    "but the following is bad:"
   ]
  },
  {
   "cell_type": "code",
   "execution_count": 22,
   "metadata": {
    "collapsed": false
   },
   "outputs": [
    {
     "name": "stdout",
     "output_type": "stream",
     "text": [
      "a =  [    2.     4.     8.    16.    32.    64.   128.   256.   512.  1024.]\n",
      "b =  [    2.     4.     8.    16.    32.    64.   128.   256.   512.  1024.]\n"
     ]
    }
   ],
   "source": [
    "n = 10\n",
    "a = np.zeros(n)\n",
    "for i in range(n):\n",
    "    a[i] = 2.**i\n",
    "b = np.zeros(n)\n",
    "b = a\n",
    "b *= 2.\n",
    "print(\"a = \",a)\n",
    "print(\"b = \",b)"
   ]
  },
  {
   "cell_type": "markdown",
   "metadata": {},
   "source": [
    "<h3>2.4 Array operations</h3>\n",
    "\n",
    "To perform operations an all elements, <FONT FACE=\"courier\" style=\"color:blue\">numpy</FONT> has many functions. In the following, we\n",
    "<ul>\n",
    "<li>Add 1 to all elements</li>\n",
    "<li>Multiply two matrices, element by elements</li>\n",
    "<li>Perform the dot product between two vectors</li>\n",
    "<li>Perform a mathematical operation</li>\n",
    "</ul>"
   ]
  },
  {
   "cell_type": "code",
   "execution_count": 23,
   "metadata": {
    "collapsed": false
   },
   "outputs": [
    {
     "name": "stdout",
     "output_type": "stream",
     "text": [
      "a    = [ 1.  2.  4.  8.]\n",
      "b=a+1= [ 2.  3.  5.  9.]\n",
      "a= [ 1.  2.  4.  8.]\n",
      "b= [ 0.  1.  2.  3.]\n",
      "a*b= [  0.   2.   8.  24.]\n",
      "a.b= 34.0\n",
      "exp(-a)= [  3.67879441e-01   1.35335283e-01   1.83156389e-02   3.35462628e-04]\n"
     ]
    }
   ],
   "source": [
    "n = 4\n",
    "a = np.zeros(n, dtype = np.float64)\n",
    "for i in range(n):\n",
    "    a[i] = 2.**i\n",
    "print(\"a    =\",a)    \n",
    "b = np.copy(a)\n",
    "b += 1.\n",
    "print(\"b=a+1=\",b)\n",
    "b = np.zeros(n, dtype = np.float64)\n",
    "for i in range(n):\n",
    "    b[i] = np.float64(i)\n",
    "print(\"a=\",a)\n",
    "print(\"b=\",b)\n",
    "print(\"a*b=\",a*b)\n",
    "print(\"a.b=\",np.dot(a,b))\n",
    "print(\"exp(-a)=\",np.exp(-a))"
   ]
  },
  {
   "cell_type": "markdown",
   "metadata": {},
   "source": [
    "Note that you need to use the <FONT FACE=\"courier\" style=\"color:blue\">exp</FONT> of <FONT FACE=\"courier\" style=\"color:blue\">numpy</FONT> and not from <FONT FACE=\"courier\" style=\"color:blue\">math</FONT>, otherwise you get this:"
   ]
  },
  {
   "cell_type": "code",
   "execution_count": 24,
   "metadata": {
    "collapsed": false
   },
   "outputs": [
    {
     "ename": "TypeError",
     "evalue": "only length-1 arrays can be converted to Python scalars",
     "output_type": "error",
     "traceback": [
      "\u001b[0;31m---------------------------------------------------------------------------\u001b[0m",
      "\u001b[0;31mTypeError\u001b[0m                                 Traceback (most recent call last)",
      "\u001b[0;32m<ipython-input-24-43959dcef9a1>\u001b[0m in \u001b[0;36m<module>\u001b[0;34m()\u001b[0m\n\u001b[0;32m----> 1\u001b[0;31m \u001b[0mprint\u001b[0m\u001b[0;34m(\u001b[0m\u001b[0;34m\"exp(-a)=\"\u001b[0m\u001b[0;34m,\u001b[0m\u001b[0mmath\u001b[0m\u001b[0;34m.\u001b[0m\u001b[0mexp\u001b[0m\u001b[0;34m(\u001b[0m\u001b[0;34m-\u001b[0m\u001b[0ma\u001b[0m\u001b[0;34m)\u001b[0m\u001b[0;34m)\u001b[0m\u001b[0;34m\u001b[0m\u001b[0m\n\u001b[0m",
      "\u001b[0;31mTypeError\u001b[0m: only length-1 arrays can be converted to Python scalars"
     ]
    }
   ],
   "source": [
    "print(\"exp(-a)=\",math.exp(-a))"
   ]
  },
  {
   "cell_type": "markdown",
   "metadata": {},
   "source": [
    "<p class='alert alert-danger'>\n",
    "Getting errors is part of code development. Python will provide sometimes short, sometimes way too long error messages. Before you throw your hands in the air, give up and immediately email the TA or the instructor, browse the error message for things that could make sense. Typically, the last line contains useful information. Here it says that <FONT FACE=\"courier\" style=\"color:blue\">math.exp</FONT> is expecting a scalar but we gave a length-1 array.\n",
    "</p>"
   ]
  },
  {
   "cell_type": "markdown",
   "metadata": {},
   "source": [
    "<h3>2.5 Indexing and Slicing</h3>\n",
    "\n",
    "A very attractive feature of python is the nomenclature for indexing and slicing that enables to maximize the efficiency of vector operations. Here is a summary of the indexing and slicing nomenclature for a vector:\n"
   ]
  },
  {
   "cell_type": "code",
   "execution_count": 25,
   "metadata": {
    "collapsed": false
   },
   "outputs": [
    {
     "data": {
      "text/html": [
       "<iframe src=figures/indexing.pdf width=800 height=600></iframe>"
      ],
      "text/latex": [
       "\\includegraphics[width=1.0\\textwidth]{figures/indexing.pdf}"
      ],
      "text/plain": [
       "<__main__.PDF at 0x106fa8710>"
      ]
     },
     "execution_count": 25,
     "metadata": {},
     "output_type": "execute_result"
    }
   ],
   "source": [
    "%matplotlib inline \n",
    "# plots graphs within the notebook\n",
    "%config InlineBackend.figure_format='svg' # not sure what this does, may be default images to svg format\n",
    "\n",
    "from IPython.display import Image\n",
    "from IPython.display import clear_output\n",
    "\n",
    "from IPython.core.display import HTML\n",
    "def header(text):\n",
    "    raw_html = '<h4>' + str(text) + '</h4>'\n",
    "    return raw_html\n",
    "\n",
    "def box(text):\n",
    "    raw_html = '<div style=\"border:1px dotted black;padding:2em;\">'+str(text)+'</div>'\n",
    "    return HTML(raw_html)\n",
    "\n",
    "def nobox(text):\n",
    "    raw_html = '<p>'+str(text)+'</p>'\n",
    "    return HTML(raw_html)\n",
    "\n",
    "def addContent(raw_html):\n",
    "    global htmlContent\n",
    "    htmlContent += raw_html\n",
    "    \n",
    "class PDF(object):\n",
    "  def __init__(self, pdf, size=(200,200)):\n",
    "    self.pdf = pdf\n",
    "    self.size = size\n",
    "\n",
    "  def _repr_html_(self):\n",
    "    return '<iframe src={0} width={1[0]} height={1[1]}></iframe>'.format(self.pdf, self.size)\n",
    "\n",
    "  def _repr_latex_(self):\n",
    "    return r'\\includegraphics[width=1.0\\textwidth]{{{0}}}'.format(self.pdf)\n",
    "\n",
    "\n",
    "PDF('figures/indexing.pdf',size=(800,600))"
   ]
  },
  {
   "cell_type": "markdown",
   "metadata": {},
   "source": [
    "Here I illustrate how to isolate certain elements of a vector of dimension 6. "
   ]
  },
  {
   "cell_type": "code",
   "execution_count": 32,
   "metadata": {
    "collapsed": false
   },
   "outputs": [
    {
     "name": "stdout",
     "output_type": "stream",
     "text": [
      "a[0:n] =  [  1.   2.   4.   8.  16.  32.]\n",
      "a[:] =  [  1.   2.   4.   8.  16.  32.]\n",
      "a[1:]  =  [  2.   4.   8.  16.  32.]\n",
      "a[1:n] =  [  2.   4.   8.  16.  32.]\n"
     ]
    }
   ],
   "source": [
    "n = 6\n",
    "a = np.zeros(6,dtype=np.float)\n",
    "\n",
    "for i in range(n):\n",
    "    a[i] = 2**i\n",
    "print(\"a[0:n] = \",a[0:n])\n",
    "print(\"a[:] = \",a[:])\n",
    "print(\"a[1:]  = \",a[1:])\n",
    "print(\"a[1:n] = \",a[1:n])"
   ]
  },
  {
   "cell_type": "code",
   "execution_count": null,
   "metadata": {
    "collapsed": false,
    "scrolled": true
   },
   "outputs": [],
   "source": [
    "print(\"a[0:n]   = \",a[0:n])\n",
    "print(\"a[0:n-1] = \",a[0:n-1])\n",
    "print(\"a[0:-1]  = \",a[0:-1])\n",
    "print(\"a[:-1]   = \",a[:-1])"
   ]
  },
  {
   "cell_type": "code",
   "execution_count": null,
   "metadata": {
    "collapsed": false
   },
   "outputs": [],
   "source": [
    "print(\"a[2:] = \",a[2:])\n",
    "print(\"a[:-3]= \",a[:-3])"
   ]
  },
  {
   "cell_type": "code",
   "execution_count": 33,
   "metadata": {
    "collapsed": false
   },
   "outputs": [
    {
     "name": "stdout",
     "output_type": "stream",
     "text": [
      "a[::2] = [  1.   4.  16.]\n"
     ]
    }
   ],
   "source": [
    "print(\"a[::2] =\", a[::2])"
   ]
  },
  {
   "cell_type": "code",
   "execution_count": null,
   "metadata": {
    "collapsed": false,
    "scrolled": true
   },
   "outputs": [],
   "source": [
    "b = np.zeros(n,dtype=np.float)\n",
    "b[:-1] = a[1:] - a[:-1]\n",
    "print(\"a[1:]  =\",a[1:])\n",
    "print(\"-\")\n",
    "print(\"a[:-1] =\",a[:-1])\n",
    "print(\"       =\",b[:-1])"
   ]
  },
  {
   "cell_type": "markdown",
   "metadata": {},
   "source": [
    "Using indexing and slicing is much more computationally efficient than using a for loop, here is a proof. The next cell creates a large array of random numbers using a normal distribution."
   ]
  },
  {
   "cell_type": "code",
   "execution_count": null,
   "metadata": {
    "collapsed": false
   },
   "outputs": [],
   "source": [
    "n = 100000\n",
    "mu = 0.\n",
    "sigma = 1.\n",
    "a = np.random.normal(loc = mu, scale = sigma, size = n)\n",
    "\n",
    "print(\"a[:-(n-10)] = \", a[:-(n-10)])\n",
    "print(\"a[0:10] = \", a[0:10])"
   ]
  },
  {
   "cell_type": "code",
   "execution_count": null,
   "metadata": {
    "collapsed": true
   },
   "outputs": [],
   "source": [
    "%matplotlib inline \n",
    "# plots graphs within the notebook\n",
    "%config InlineBackend.figure_format='svg' # not sure what this does, may be default images to svg format\n",
    "\n",
    "from IPython.display import display,Image, Latex\n",
    "from __future__ import division\n",
    "from sympy.interactive import printing\n",
    "printing.init_printing(use_latex='mathjax')\n",
    "\n",
    "import time\n",
    "\n",
    "from IPython.display import display,Image, Latex\n",
    "\n",
    "from IPython.display import clear_output\n",
    "\n",
    "#import SchemDraw as schem\n",
    "#import SchemDraw.elements as e\n",
    "\n",
    "import matplotlib.pyplot as plt\n",
    "import numpy as np\n",
    "import math\n",
    "import scipy.constants as sc\n",
    "\n",
    "import sympy as sym\n",
    "\n",
    "from IPython.core.display import HTML\n",
    "def header(text):\n",
    "    raw_html = '<h4>' + str(text) + '</h4>'\n",
    "    return raw_html\n",
    "\n",
    "def box(text):\n",
    "    raw_html = '<div style=\"border:1px dotted black;padding:2em;\">'+str(text)+'</div>'\n",
    "    return HTML(raw_html)\n",
    "\n",
    "def nobox(text):\n",
    "    raw_html = '<p>'+str(text)+'</p>'\n",
    "    return HTML(raw_html)\n",
    "\n",
    "def addContent(raw_html):\n",
    "    global htmlContent\n",
    "    htmlContent += raw_html\n",
    "    \n",
    "class PDF(object):\n",
    "  def __init__(self, pdf, size=(200,200)):\n",
    "    self.pdf = pdf\n",
    "    self.size = size\n",
    "\n",
    "  def _repr_html_(self):\n",
    "    return '<iframe src={0} width={1[0]} height={1[1]}></iframe>'.format(self.pdf, self.size)\n",
    "\n",
    "  def _repr_latex_(self):\n",
    "    return r'\\includegraphics[width=1.0\\textwidth]{{{0}}}'.format(self.pdf)\n",
    "\n",
    "class ListTable(list):\n",
    "    \"\"\" Overridden list class which takes a 2-dimensional list of \n",
    "        the form [[1,2,3],[4,5,6]], and renders an HTML Table in \n",
    "        IPython Notebook. \"\"\"\n",
    "    \n",
    "    def _repr_html_(self):\n",
    "        html = [\"<table>\"]\n",
    "        for row in self:\n",
    "            html.append(\"<tr>\")\n",
    "            \n",
    "            for col in row:\n",
    "                html.append(\"<td>{0}</td>\".format(col))\n",
    "            \n",
    "            html.append(\"</tr>\")\n",
    "        html.append(\"</table>\")\n",
    "        return ''.join(html)\n",
    "    \n",
    "font = {'family' : 'serif',\n",
    "        #'color'  : 'black',\n",
    "        'weight' : 'normal',\n",
    "        'size'   : 12,\n",
    "        }\n",
    "fontlabel = {'family' : 'serif',\n",
    "        #'color'  : 'black',\n",
    "        'weight' : 'normal',\n",
    "        'size'   : 16,\n",
    "        }\n",
    "\n",
    "from matplotlib.ticker import FormatStrFormatter\n",
    "plt.rc('font', **font) "
   ]
  },
  {
   "cell_type": "code",
   "execution_count": null,
   "metadata": {
    "collapsed": false
   },
   "outputs": [],
   "source": [
    "import matplotlib.pyplot as plt\n",
    "count, bins, ignored = plt.hist(a, 50, normed=True)\n",
    "plt.plot(bins, 1/(sigma * np.sqrt(2 * np.pi)) * \\\n",
    "         np.exp( - (bins - mu)**2 / (2 * sigma**2) ),\\\n",
    "         linewidth=2, color='r')\n",
    "plt.xlabel(r\"a\", fontdict = fontlabel)\n",
    "plt.ylabel(r\"pdf\", fontdict = fontlabel)\n",
    "plt.show()\n"
   ]
  },
  {
   "cell_type": "code",
   "execution_count": null,
   "metadata": {
    "collapsed": false
   },
   "outputs": [],
   "source": [
    "n = 100\n",
    "mu = 0.\n",
    "sigma = 0.2\n",
    "x = np.linspace(0,1.,n)\n",
    "a = np.sin(2.*math.pi*x)\n",
    "plt.plot(x,a, lw = 2)\n",
    "plt.xlabel(r\"x\", fontdict = fontlabel)\n",
    "plt.ylabel(r\"a(x)\", fontdict = fontlabel)\n",
    "plt.show()\n",
    "a_noisy = np.copy(a)\n",
    "n_noise = 4\n",
    "k_noise = 50\n",
    "noise_amplitude = np.random.normal(loc = mu, scale = sigma, size = n_noise)\n",
    "noise_phase = 2*math.pi*np.random.normal(loc = mu, scale = 1.0, size = n_noise)\n",
    "for i in range(n_noise):\n",
    "    a_noisy += noise_amplitude[i]*np.sin(2*(k_noise+i)*math.pi*x + noise_phase[i])\n",
    "plt.plot(x,a_noisy, lw = 2)\n",
    "plt.xlabel(r\"x\", fontdict = fontlabel)\n",
    "plt.ylabel(r\"a(x)\", fontdict = fontlabel)\n",
    "plt.show() \n",
    "print(noise_amplitude)\n",
    "print(noise_phase)"
   ]
  },
  {
   "cell_type": "code",
   "execution_count": null,
   "metadata": {
    "collapsed": false
   },
   "outputs": [],
   "source": [
    "\n",
    "a_filter = np.zeros(n)\n",
    "a_filter[1:-1] = (a_noisy[0:-2] + 2. * a_noisy[1:-1] + a_noisy[2:])/4.\n",
    "a_filter[0] = (a_noisy[n-2] + 2. * a_noisy[0] + a_noisy[1])/4.\n",
    "a_filter[n-1] = a_filter[0]\n"
   ]
  },
  {
   "cell_type": "code",
   "execution_count": null,
   "metadata": {
    "collapsed": false
   },
   "outputs": [],
   "source": [
    "plt.plot(x,a_noisy, linestyle=\"solid\", lw = 1, label = r\"noisy signal\")\n",
    "plt.plot(x,a_filter, color = \"red\",linestyle=\"solid\", lw = 2, label = r\"filtered signal\")\n",
    "plt.plot(x,a, color = \"green\", linestyle=\"None\", marker = \"o\", markeredgecolor = \"green\", markeredgewidth = 1,\\\n",
    "         markerfacecolor = \"None\", label = r\"original signal\")\n",
    "plt.legend(loc=\"lower left\", bbox_to_anchor=[0, 1],\n",
    "           ncol=2, shadow=True, fancybox=True)\n",
    "plt.xlabel(r\"$x$\", fontdict = fontlabel)\n",
    "plt.ylabel(r\"$a(x)$\", fontdict = fontlabel)\n",
    "plt.show() "
   ]
  },
  {
   "cell_type": "code",
   "execution_count": null,
   "metadata": {
    "collapsed": false
   },
   "outputs": [],
   "source": [
    "plt.semilogy(x,np.abs(a_noisy - a_filter), lw = 2, label=r\"\\vert a_{noisy}-a_{filter}\\vert\")\n",
    "plt.semilogy(x,np.abs(a - a_filter), color = \"red\", lw = 2, label=r\"\\vert a-a_{filter}\\vert\")\n",
    "plt.legend(loc=\"lower left\", bbox_to_anchor=[0, 1],\n",
    "           ncol=2, shadow=True, fancybox=True)\n",
    "plt.xlabel(r\"$x$\", fontdict = fontlabel)\n",
    "plt.ylabel(r\"difference\", fontdict = fontlabel)"
   ]
  },
  {
   "cell_type": "code",
   "execution_count": null,
   "metadata": {
    "collapsed": false
   },
   "outputs": [],
   "source": [
    "%%timeit\n",
    "a_filter = np.zeros(n)\n",
    "for i in range(1,n-1):\n",
    "    a_filter[i] = (a_noisy[i-1] + 2. * a_noisy[i] + a_noisy[i+1])/4.\n",
    "a_filter[0] = (a_noisy[n-2] + 2. * a_noisy[0] + a_noisy[1])/4.\n",
    "a_filter[n-1] = a_filter[0]\n"
   ]
  },
  {
   "cell_type": "code",
   "execution_count": null,
   "metadata": {
    "collapsed": false
   },
   "outputs": [],
   "source": [
    "%%timeit\n",
    "a_filter = np.zeros(n)\n",
    "a_filter[1:-1] = (a_noisy[0:-2] + 2. * a_noisy[1:-1] + a_noisy[2:])/4.\n",
    "a_filter[0] = (a_noisy[n-2] + 2. * a_noisy[0] + a_noisy[1])/4.\n",
    "a_filter[n-1] = a_filter[0]\n"
   ]
  },
  {
   "cell_type": "code",
   "execution_count": null,
   "metadata": {
    "collapsed": true
   },
   "outputs": [],
   "source": [
    "def explicit_filter(a):\n",
    "    n = len(a)\n",
    "    a_filter = np.zeros(n)\n",
    "    a_filter[1:-1] = (a[0:-2] + 2.*a[1:-1] + a[2:])/4.\n",
    "    a_filter[0] = (a[n-2] + 2.*a[0] + a[1])/4.\n",
    "    a_filter[n-1] = a_filter[0]\n",
    "    return a_filter"
   ]
  },
  {
   "cell_type": "code",
   "execution_count": null,
   "metadata": {
    "collapsed": false
   },
   "outputs": [],
   "source": [
    "a_filter = explicit_filter(a_noisy)\n",
    "plt.semilogy(x,np.abs(a_noisy - a_filter), lw = 2, label=r\"$\\vert a_{noisy}-a_{filter}\\vert$\")\n",
    "plt.semilogy(x,np.abs(a - a_filter), color = \"red\", lw = 2, label=r\"$\\vert a-a_{filter}\\vert$\")\n",
    "plt.legend(loc=\"lower left\", bbox_to_anchor=[0, 1],\n",
    "           ncol=2, shadow=True, fancybox=True)\n",
    "plt.xlabel(r\"$x$\", fontdict = fontlabel)\n",
    "plt.ylabel(r\"difference\", fontdict = fontlabel)"
   ]
  },
  {
   "cell_type": "code",
   "execution_count": null,
   "metadata": {
    "collapsed": true
   },
   "outputs": [],
   "source": []
  }
 ],
 "metadata": {
  "kernelspec": {
   "display_name": "Python 3",
   "language": "python",
   "name": "python3"
  },
  "language_info": {
   "codemirror_mode": {
    "name": "ipython",
    "version": 3
   },
   "file_extension": ".py",
   "mimetype": "text/x-python",
   "name": "python",
   "nbconvert_exporter": "python",
   "pygments_lexer": "ipython3",
   "version": "3.5.1"
  }
 },
 "nbformat": 4,
 "nbformat_minor": 0
}
